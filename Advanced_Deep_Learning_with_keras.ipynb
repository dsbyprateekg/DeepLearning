{
  "nbformat": 4,
  "nbformat_minor": 0,
  "metadata": {
    "colab": {
      "name": "Advanced Deep Learning with keras.ipynb",
      "version": "0.3.2",
      "provenance": [],
      "collapsed_sections": []
    },
    "kernelspec": {
      "name": "python3",
      "display_name": "Python 3"
    },
    "accelerator": "GPU"
  },
  "cells": [
    {
      "metadata": {
        "id": "flLnj2Zhcd4h",
        "colab_type": "code",
        "outputId": "783d53d8-3cf2-4519-a3ba-590b0ba8bc99",
        "colab": {
          "resources": {
            "http://localhost:8080/nbextensions/google.colab/files.js": {
              "data": "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",
              "ok": true,
              "headers": [
                [
                  "content-type",
                  "application/javascript"
                ]
              ],
              "status": 200,
              "status_text": ""
            }
          },
          "base_uri": "https://localhost:8080/",
          "height": 55
        }
      },
      "cell_type": "code",
      "source": [
        "from google.colab import files\n",
        "uploaded = files.upload()"
      ],
      "execution_count": 0,
      "outputs": [
        {
          "output_type": "display_data",
          "data": {
            "text/html": [
              "\n",
              "     <input type=\"file\" id=\"files-d1770490-3b23-4401-92b1-f66bf98375c3\" name=\"files[]\" multiple disabled />\n",
              "     <output id=\"result-d1770490-3b23-4401-92b1-f66bf98375c3\">\n",
              "      Upload widget is only available when the cell has been executed in the\n",
              "      current browser session. Please rerun this cell to enable.\n",
              "      </output>\n",
              "      <script src=\"/nbextensions/google.colab/files.js\"></script> "
            ],
            "text/plain": [
              "<IPython.core.display.HTML object>"
            ]
          },
          "metadata": {
            "tags": []
          }
        },
        {
          "output_type": "stream",
          "text": [
            "Saving games_tourney.csv to games_tourney.csv\n"
          ],
          "name": "stdout"
        }
      ]
    },
    {
      "metadata": {
        "id": "nna7BOLvfTYe",
        "colab_type": "code",
        "colab": {}
      },
      "cell_type": "code",
      "source": [
        "games_season = pd.read_csv(\"games_season.csv\")\n",
        "games_season_enriched = pd.read_csv(\"games_season_enriched.csv\")\n",
        "games_tourney = pd.read_csv(\"games_tourney.csv\")"
      ],
      "execution_count": 0,
      "outputs": []
    },
    {
      "metadata": {
        "id": "nh6qU9sefxfB",
        "colab_type": "code",
        "outputId": "cdf62d02-f11d-484f-8495-e7a3939beb80",
        "colab": {
          "base_uri": "https://localhost:8080/",
          "height": 238
        }
      },
      "cell_type": "code",
      "source": [
        "games_season.info()"
      ],
      "execution_count": 0,
      "outputs": [
        {
          "output_type": "stream",
          "text": [
            "<class 'pandas.core.frame.DataFrame'>\n",
            "RangeIndex: 312178 entries, 0 to 312177\n",
            "Data columns (total 8 columns):\n",
            "season        312178 non-null int64\n",
            "team_1        312178 non-null int64\n",
            "team_2        312178 non-null int64\n",
            "home          312178 non-null int64\n",
            "score_diff    312178 non-null int64\n",
            "score_1       312178 non-null int64\n",
            "score_2       312178 non-null int64\n",
            "won           312178 non-null int64\n",
            "dtypes: int64(8)\n",
            "memory usage: 19.1 MB\n"
          ],
          "name": "stdout"
        }
      ]
    },
    {
      "metadata": {
        "id": "zWr21hIagCJZ",
        "colab_type": "code",
        "outputId": "b8850516-2da2-44d8-f2b9-b71b19c14ad4",
        "colab": {
          "base_uri": "https://localhost:8080/",
          "height": 272
        }
      },
      "cell_type": "code",
      "source": [
        "games_season_enriched.info()"
      ],
      "execution_count": 0,
      "outputs": [
        {
          "output_type": "stream",
          "text": [
            "<class 'pandas.core.frame.DataFrame'>\n",
            "RangeIndex: 4234 entries, 0 to 4233\n",
            "Data columns (total 10 columns):\n",
            "season        4234 non-null int64\n",
            "team_1        4234 non-null int64\n",
            "team_2        4234 non-null int64\n",
            "home          4234 non-null int64\n",
            "seed_diff     4234 non-null int64\n",
            "score_diff    4234 non-null int64\n",
            "score_1       4234 non-null int64\n",
            "score_2       4234 non-null int64\n",
            "won           4234 non-null int64\n",
            "pred          4234 non-null float64\n",
            "dtypes: float64(1), int64(9)\n",
            "memory usage: 330.9 KB\n"
          ],
          "name": "stdout"
        }
      ]
    },
    {
      "metadata": {
        "id": "DAGHMZg6gGbq",
        "colab_type": "code",
        "outputId": "fb6c1a3c-4370-418a-97a7-3050182920fb",
        "colab": {
          "base_uri": "https://localhost:8080/",
          "height": 255
        }
      },
      "cell_type": "code",
      "source": [
        "games_tourney.info()"
      ],
      "execution_count": 0,
      "outputs": [
        {
          "output_type": "stream",
          "text": [
            "<class 'pandas.core.frame.DataFrame'>\n",
            "RangeIndex: 4234 entries, 0 to 4233\n",
            "Data columns (total 9 columns):\n",
            "season        4234 non-null int64\n",
            "team_1        4234 non-null int64\n",
            "team_2        4234 non-null int64\n",
            "home          4234 non-null int64\n",
            "seed_diff     4234 non-null int64\n",
            "score_diff    4234 non-null int64\n",
            "score_1       4234 non-null int64\n",
            "score_2       4234 non-null int64\n",
            "won           4234 non-null int64\n",
            "dtypes: int64(9)\n",
            "memory usage: 297.8 KB\n"
          ],
          "name": "stdout"
        }
      ]
    },
    {
      "metadata": {
        "id": "XTNZiXGygLKc",
        "colab_type": "code",
        "colab": {}
      },
      "cell_type": "code",
      "source": [
        "\"\"\"\n",
        "Basics:\n",
        "The first step in creating a neural network model is to define the Input layer. \n",
        "This layer takes in raw data, usually in the form of numpy arrays. \n",
        "The shape of the Input layer defines how many variables your neural network will use. \n",
        "For example, if the input data has 10 columns, you define an Input layer with a shape of (10,)\n",
        "\n",
        "Remember that the input layer allows your model to load data\n",
        "\"\"\""
      ],
      "execution_count": 0,
      "outputs": []
    },
    {
      "metadata": {
        "id": "JJ-679vQhySS",
        "colab_type": "code",
        "outputId": "90e4c90a-b6f7-4efe-d8b7-c4411e05ba57",
        "colab": {
          "base_uri": "https://localhost:8080/",
          "height": 34
        }
      },
      "cell_type": "code",
      "source": [
        "# Import Input from keras.layers\n",
        "from keras.layers import Input\n",
        "\n",
        "# Create an input layer of shape 1\n",
        "input_tensor = Input(shape=(1,))"
      ],
      "execution_count": 0,
      "outputs": [
        {
          "output_type": "stream",
          "text": [
            "Using TensorFlow backend.\n"
          ],
          "name": "stderr"
        }
      ]
    },
    {
      "metadata": {
        "id": "m3RvJRgSiHsZ",
        "colab_type": "code",
        "colab": {}
      },
      "cell_type": "code",
      "source": [
        "\"\"\"\n",
        "\n",
        "Once you have an Input layer, the next step is to add a Dense layer.\n",
        "Dense layers learn a weight matrix, where the first dimension of the matrix is the dimension of the input data, \n",
        "and the second dimension is the dimension of the output data. \n",
        "Recall that your Input layer has a shape of 1. \n",
        "In this case, your output layer will also have a shape of 1. \n",
        "This means that the Dense layer will learn a 1x1 weight matrix.\n",
        "\n",
        "This network will take the input, apply a linear coefficient to it, and return the result.\n",
        "\n",
        "\n",
        "\"\"\""
      ],
      "execution_count": 0,
      "outputs": []
    },
    {
      "metadata": {
        "id": "Wb7rd55MiX9s",
        "colab_type": "code",
        "colab": {}
      },
      "cell_type": "code",
      "source": [
        "# Load layers\n",
        "from keras.layers import Input, Dense\n",
        "\n",
        "# Input layer (from previous exercise)\n",
        "input_tensor = Input(shape=(1,))\n",
        "\n",
        "# Create a dense layer\n",
        "output_layer = Dense(1)\n",
        "\n",
        "# Connect the dense layer to the input_tensor\n",
        "output_tensor = output_layer(input_tensor)"
      ],
      "execution_count": 0,
      "outputs": []
    },
    {
      "metadata": {
        "id": "nIQ-Bz7piuxG",
        "colab_type": "code",
        "colab": {}
      },
      "cell_type": "code",
      "source": [
        "\"\"\"\n",
        "Output layers are simply Dense layers! \n",
        "Output layers are used to reduce the dimension of the inputs to the dimension of the outputs.\n",
        "For now, you'll always use a single output in your neural networks, which is equivalent to Dense(1) or a dense layer with a single unit.\n",
        "\n",
        "The output layer allows your model to make predictions.\n",
        "\n",
        "\"\"\""
      ],
      "execution_count": 0,
      "outputs": []
    },
    {
      "metadata": {
        "id": "U2GYfX4KjF6J",
        "colab_type": "code",
        "colab": {}
      },
      "cell_type": "code",
      "source": [
        "# Load layers\n",
        "from keras.layers import Input, Dense\n",
        "\n",
        "# Input layer\n",
        "input_tensor = Input(shape=(1,))\n",
        "\n",
        "# Create a dense layer and connect the dense layer to the input_tensor in one step\n",
        "# Note that you did this in 2 steps in the previous exercise, but are doing it in one step now\n",
        "output_tensor = Dense(1)(input_tensor)"
      ],
      "execution_count": 0,
      "outputs": []
    },
    {
      "metadata": {
        "id": "rKhzEi5djXKk",
        "colab_type": "code",
        "colab": {}
      },
      "cell_type": "code",
      "source": [
        "\"\"\"\n",
        "Once you've defined an input layer and an output layer, you can build a Keras model. \n",
        "The model object is how you tell Keras where the model starts and stops: where data comes in and where predictions come out.\n",
        "\n",
        "The below model is a complete neural network, ready to learn from data and make prediction.\n",
        "\n",
        "\"\"\""
      ],
      "execution_count": 0,
      "outputs": []
    },
    {
      "metadata": {
        "id": "ocB0sslpmBW5",
        "colab_type": "code",
        "colab": {}
      },
      "cell_type": "code",
      "source": [
        "# Input/dense/output layers\n",
        "from keras.layers import Input, Dense\n",
        "input_tensor = Input(shape=(1,))\n",
        "output_tensor = Dense(1)(input_tensor)\n",
        "\n",
        "# Build the model\n",
        "from keras.models import Model\n",
        "model = Model(input_tensor, output_tensor)"
      ],
      "execution_count": 0,
      "outputs": []
    },
    {
      "metadata": {
        "id": "0Wlhj8XBmLZT",
        "colab_type": "code",
        "colab": {}
      },
      "cell_type": "code",
      "source": [
        "\"\"\"\n",
        "The final step in creating a model is compiling it. \n",
        "Now that you've created a model, you have to compile it before you can fit it to data. \n",
        "This finalizes your model, freezes all its settings, and prepares it to meet some data!\n",
        "\n",
        "During compilation, you specify the optimizer to use for fitting the model to the data, and a loss function. \n",
        "'adam' is a good default optimizer to use, and will generally work well. \n",
        "Loss function depends on the problem at hand. Mean squared error is a common loss function \n",
        "and will optimize for predicting the mean, as is done in least squares regression.\n",
        "Mean absolute error optimizes for the median and is used in quantile regression.\n",
        "\n",
        "\"\"\""
      ],
      "execution_count": 0,
      "outputs": []
    },
    {
      "metadata": {
        "id": "ANgZQjxoi9vf",
        "colab_type": "code",
        "colab": {}
      },
      "cell_type": "code",
      "source": [
        "# Compile the model\n",
        "model.compile(optimizer='adam', loss='mean_absolute_error')"
      ],
      "execution_count": 0,
      "outputs": []
    },
    {
      "metadata": {
        "id": "TSZByIX9m0vd",
        "colab_type": "code",
        "colab": {}
      },
      "cell_type": "code",
      "source": [
        "\"\"\"\n",
        "Now that you've compiled the model, take a look a the result of your hard work! You can do this by looking at the model summary, as well as its plot.\n",
        "\n",
        "The summary will tell you the names of the layers, as well as how many units they have and how many parameters are in the model.\n",
        "\n",
        "The plot will show how the layers connect to each other. It turns out neural networks aren't really black boxes after all!\n",
        "\n",
        "\"\"\""
      ],
      "execution_count": 0,
      "outputs": []
    },
    {
      "metadata": {
        "id": "mCSMn9Czm9B2",
        "colab_type": "code",
        "outputId": "195d9d2b-8ec4-478b-8a48-c54a8fb43765",
        "colab": {
          "base_uri": "https://localhost:8080/",
          "height": 537
        }
      },
      "cell_type": "code",
      "source": [
        "# Import the plotting function\n",
        "from keras.utils import plot_model\n",
        "import matplotlib.pyplot as plt\n",
        "\n",
        "# Summarize the model\n",
        "model.summary()\n",
        "\n",
        "# Plot the model\n",
        "plot_model(model, to_file='model.png')\n",
        "\n",
        "# Display the image\n",
        "data = plt.imread('model.png')\n",
        "plt.imshow(data)\n",
        "plt.show()"
      ],
      "execution_count": 0,
      "outputs": [
        {
          "output_type": "stream",
          "text": [
            "_________________________________________________________________\n",
            "Layer (type)                 Output Shape              Param #   \n",
            "=================================================================\n",
            "input_4 (InputLayer)         (None, 1)                 0         \n",
            "_________________________________________________________________\n",
            "dense_3 (Dense)              (None, 1)                 2         \n",
            "=================================================================\n",
            "Total params: 2\n",
            "Trainable params: 2\n",
            "Non-trainable params: 0\n",
            "_________________________________________________________________\n"
          ],
          "name": "stdout"
        },
        {
          "output_type": "display_data",
          "data": {
            "image/png": "[encoded data removed]",
            "text/plain": [
              "<matplotlib.figure.Figure at 0x7f19620c00b8>"
            ]
          },
          "metadata": {
            "tags": []
          }
        }
      ]
    },
    {
      "metadata": {
        "id": "-kV3ps_0nFGR",
        "colab_type": "code",
        "colab": {}
      },
      "cell_type": "code",
      "source": [
        "\"\"\"\n",
        "Now that the model is compiled, you are ready to fit it to some data!\n",
        "\n",
        "In this exercise, you'll use a dataset of scores from US College Basketball tournament games. \n",
        "Each row of the dataset has the team ids: team_1 and team_2, as integers. \n",
        "It also has the seed difference between the teams (seeds are assigned by the tournament committee \n",
        "and represent a ranking of how strong the teams are) and the score difference of the game \n",
        "(e.g. if team_1 wins by 5 points, the score difference is 5).\n",
        "\n",
        "To fit the model, you provide a matrix of X variables (in this case one column: the seed difference) \n",
        "and a matrix of Y variables (in this case one column: the score difference).\n",
        "\n",
        "\"\"\""
      ],
      "execution_count": 0,
      "outputs": []
    },
    {
      "metadata": {
        "id": "M-HOPL7Povne",
        "colab_type": "code",
        "outputId": "7f726e68-93da-45de-b4eb-a873dac25230",
        "colab": {
          "base_uri": "https://localhost:8080/",
          "height": 204
        }
      },
      "cell_type": "code",
      "source": [
        "games_tourney.head()"
      ],
      "execution_count": 0,
      "outputs": [
        {
          "output_type": "execute_result",
          "data": {
            "text/html": [
              "<div>\n",
              "<style scoped>\n",
              "    .dataframe tbody tr th:only-of-type {\n",
              "        vertical-align: middle;\n",
              "    }\n",
              "\n",
              "    .dataframe tbody tr th {\n",
              "        vertical-align: top;\n",
              "    }\n",
              "\n",
              "    .dataframe thead th {\n",
              "        text-align: right;\n",
              "    }\n",
              "</style>\n",
              "<table border=\"1\" class=\"dataframe\">\n",
              "  <thead>\n",
              "    <tr style=\"text-align: right;\">\n",
              "      <th></th>\n",
              "      <th>season</th>\n",
              "      <th>team_1</th>\n",
              "      <th>team_2</th>\n",
              "      <th>home</th>\n",
              "      <th>seed_diff</th>\n",
              "      <th>score_diff</th>\n",
              "      <th>score_1</th>\n",
              "      <th>score_2</th>\n",
              "      <th>won</th>\n",
              "    </tr>\n",
              "  </thead>\n",
              "  <tbody>\n",
              "    <tr>\n",
              "      <th>0</th>\n",
              "      <td>1985</td>\n",
              "      <td>288</td>\n",
              "      <td>73</td>\n",
              "      <td>0</td>\n",
              "      <td>-3</td>\n",
              "      <td>-9</td>\n",
              "      <td>41</td>\n",
              "      <td>50</td>\n",
              "      <td>0</td>\n",
              "    </tr>\n",
              "    <tr>\n",
              "      <th>1</th>\n",
              "      <td>1985</td>\n",
              "      <td>5929</td>\n",
              "      <td>73</td>\n",
              "      <td>0</td>\n",
              "      <td>4</td>\n",
              "      <td>6</td>\n",
              "      <td>61</td>\n",
              "      <td>55</td>\n",
              "      <td>1</td>\n",
              "    </tr>\n",
              "    <tr>\n",
              "      <th>2</th>\n",
              "      <td>1985</td>\n",
              "      <td>9884</td>\n",
              "      <td>73</td>\n",
              "      <td>0</td>\n",
              "      <td>5</td>\n",
              "      <td>-4</td>\n",
              "      <td>59</td>\n",
              "      <td>63</td>\n",
              "      <td>0</td>\n",
              "    </tr>\n",
              "    <tr>\n",
              "      <th>3</th>\n",
              "      <td>1985</td>\n",
              "      <td>73</td>\n",
              "      <td>288</td>\n",
              "      <td>0</td>\n",
              "      <td>3</td>\n",
              "      <td>9</td>\n",
              "      <td>50</td>\n",
              "      <td>41</td>\n",
              "      <td>1</td>\n",
              "    </tr>\n",
              "    <tr>\n",
              "      <th>4</th>\n",
              "      <td>1985</td>\n",
              "      <td>3920</td>\n",
              "      <td>410</td>\n",
              "      <td>0</td>\n",
              "      <td>1</td>\n",
              "      <td>-9</td>\n",
              "      <td>54</td>\n",
              "      <td>63</td>\n",
              "      <td>0</td>\n",
              "    </tr>\n",
              "  </tbody>\n",
              "</table>\n",
              "</div>"
            ],
            "text/plain": [
              "   season  team_1  team_2  home  seed_diff  score_diff  score_1  score_2  won\n",
              "0    1985     288      73     0         -3          -9       41       50    0\n",
              "1    1985    5929      73     0          4           6       61       55    1\n",
              "2    1985    9884      73     0          5          -4       59       63    0\n",
              "3    1985      73     288     0          3           9       50       41    1\n",
              "4    1985    3920     410     0          1          -9       54       63    0"
            ]
          },
          "metadata": {
            "tags": []
          },
          "execution_count": 17
        }
      ]
    },
    {
      "metadata": {
        "id": "ugaESdCdpAey",
        "colab_type": "code",
        "outputId": "69ffb563-9788-42db-8078-0a776759cf46",
        "colab": {
          "base_uri": "https://localhost:8080/",
          "height": 85
        }
      },
      "cell_type": "code",
      "source": [
        "# Input layer\n",
        "input_tensor = Input(shape=(1,))\n",
        "\n",
        "# Create a dense layer\n",
        "output_layer = Dense(1)\n",
        "\n",
        "# Connect the dense layer to the input_tensor\n",
        "output_tensor = output_layer(input_tensor)\n",
        "\n",
        "# Build the model\n",
        "from keras.models import Model\n",
        "model = Model(input_tensor, output_tensor)\n",
        "\n",
        "predictor = games_tourney['seed_diff']\n",
        "target = games_tourney['score_diff']\n",
        "\n",
        "# Compile the model\n",
        "model.compile(optimizer='adam', loss='mean_absolute_error')\n",
        "\n",
        "# Now fit the model\n",
        "model.fit(predictor, target,\n",
        "          epochs=1,\n",
        "          batch_size=128,\n",
        "          validation_split=0.10,\n",
        "          verbose=True)"
      ],
      "execution_count": 0,
      "outputs": [
        {
          "output_type": "stream",
          "text": [
            "Train on 3810 samples, validate on 424 samples\n",
            "Epoch 1/1\n",
            "3810/3810 [==============================] - 2s 530us/step - loss: 9.4464 - val_loss: 9.1192\n"
          ],
          "name": "stdout"
        },
        {
          "output_type": "execute_result",
          "data": {
            "text/plain": [
              "<keras.callbacks.History at 0x7f19620b5ba8>"
            ]
          },
          "metadata": {
            "tags": []
          },
          "execution_count": 19
        }
      ]
    },
    {
      "metadata": {
        "id": "dvGfNN6Z-IDm",
        "colab_type": "code",
        "colab": {}
      },
      "cell_type": "code",
      "source": [
        "\"\"\"\n",
        "Shared layers allow a model to use the same weight matrix for multiple steps. \n",
        "In this exercise, you will build a \"team strength\" layer that represents each team by a single number. \n",
        "You will use this number for both teams in the model. \n",
        "The model will learn a number for each team that works well both when the team is team_1 and when the team is team_2 in the input data.\n",
        "\n",
        "The embedding layer is a lot like a dictionary, but your model learns the values for each key.\n",
        "\n",
        "\"\"\""
      ],
      "execution_count": 0,
      "outputs": []
    },
    {
      "metadata": {
        "id": "hXXHlyKd-O48",
        "colab_type": "code",
        "colab": {}
      },
      "cell_type": "code",
      "source": [
        "# Imports\n",
        "from keras.layers import Embedding\n",
        "from numpy import unique\n",
        "\n",
        "# Count the unique number of teams\n",
        "n_teams = unique(games_season['team_1']).shape[0]\n",
        "\n",
        "# Create an embedding layer\n",
        "team_lookup = Embedding(input_dim=n_teams,\n",
        "                        output_dim=1,\n",
        "                        input_length=1,\n",
        "                        name='Team-Strength')"
      ],
      "execution_count": 0,
      "outputs": []
    },
    {
      "metadata": {
        "id": "ZBo5FfF4-baV",
        "colab_type": "code",
        "colab": {}
      },
      "cell_type": "code",
      "source": [
        "\"\"\"\n",
        "The team strength lookup has three components: an input, an embedding layer, and a flatten layer that creates the output.\n",
        "\n",
        "If you wrap these three layers in a model with an input and output, you can re-use that stack of three layers at multiple places.\n",
        "\n",
        "The model will be reusable, so you can use it in two places in your final model.\n",
        "\n",
        "\"\"\""
      ],
      "execution_count": 0,
      "outputs": []
    },
    {
      "metadata": {
        "id": "EyAuzAlQ-pQx",
        "colab_type": "code",
        "colab": {}
      },
      "cell_type": "code",
      "source": [
        "# Imports\n",
        "from keras.layers import Input, Embedding, Flatten\n",
        "from keras.models import Model\n",
        "\n",
        "# Create an input layer for the team ID\n",
        "teamid_in = Input(shape=(1,))\n",
        "\n",
        "# Lookup the input in the team strength embedding layer\n",
        "strength_lookup = team_lookup(teamid_in)\n",
        "\n",
        "# Flatten the output\n",
        "strength_lookup_flat = Flatten()(strength_lookup)\n",
        "\n",
        "# Combine the operations into a single, re-usable model\n",
        "team_strength_model = Model(teamid_in, strength_lookup_flat, name='Team-Strength-Model')"
      ],
      "execution_count": 0,
      "outputs": []
    },
    {
      "metadata": {
        "id": "IcKdJHohAS8t",
        "colab_type": "code",
        "colab": {}
      },
      "cell_type": "code",
      "source": [
        "\"\"\"\n",
        "In this exercise, you will define two input layers for the two teams in your model. \n",
        "This allows you to specify later in the model how the data from each team will be used differently.\n",
        "\"\"\""
      ],
      "execution_count": 0,
      "outputs": []
    },
    {
      "metadata": {
        "id": "O0r6wR0cAW1E",
        "colab_type": "code",
        "colab": {}
      },
      "cell_type": "code",
      "source": [
        "# Load the input layer from keras.layers\n",
        "from keras.layers import Input\n",
        "\n",
        "# Input layer for team 1\n",
        "team_in_1 = Input(shape=(1,), name='Team-1-In')\n",
        "\n",
        "# Separate input layer for team 2\n",
        "team_in_2 = Input(shape=(1,), name='Team-2-In')"
      ],
      "execution_count": 0,
      "outputs": []
    },
    {
      "metadata": {
        "id": "MDmkD-iCAcq0",
        "colab_type": "code",
        "colab": {}
      },
      "cell_type": "code",
      "source": [
        "\"\"\"\n",
        "Now that you have a team strength model and an input layer for each team, \n",
        "you can lookup the team inputs in the shared team strength model. \n",
        "The two inputs will share the same weights.\n",
        "\n",
        "In this dataset, you have 10,888 unique teams. \n",
        "You want to learn a strength rating for each team, such that if any pair of teams plays each other, \n",
        "you can predict the score, even if those two teams have never played before. \n",
        "Furthermore, you want the strength rating to be the same, regardless of whether the team is the home team or the away team.\n",
        "\n",
        "To achieve this, you use a shared layer, defined by the re-usable model (team_strength_model()) you built\n",
        "\n",
        "\"\"\""
      ],
      "execution_count": 0,
      "outputs": []
    },
    {
      "metadata": {
        "id": "PMkKQKqGAs_C",
        "colab_type": "code",
        "colab": {}
      },
      "cell_type": "code",
      "source": [
        "# Lookup team 1 in the team strength model\n",
        "team_1_strength = team_strength_model(team_in_1)\n",
        "\n",
        "# Lookup team 2 in the team strength model\n",
        "team_2_strength = team_strength_model(team_in_2)"
      ],
      "execution_count": 0,
      "outputs": []
    },
    {
      "metadata": {
        "id": "EejoqSsGAxyR",
        "colab_type": "code",
        "colab": {}
      },
      "cell_type": "code",
      "source": [
        "\"\"\"\n",
        "Output layer using shared layer\n",
        "Now that you've looked up how \"strong\" each team is, subtract the team strengths to determine which team is expected to win the game.\n",
        "\n",
        "This is a bit like the seeds that the tournament committee uses, which are also a measure of team strength. \n",
        "But rather than using seed differences to predict score differences, you'll use the difference of your own team strength model to predict score differences.\n",
        "\n",
        "The subtract layer will combine the weights from the two layers by subtracting them.\n",
        "\n",
        "\"\"\""
      ],
      "execution_count": 0,
      "outputs": []
    },
    {
      "metadata": {
        "id": "4U2IKy55BfXI",
        "colab_type": "code",
        "colab": {}
      },
      "cell_type": "code",
      "source": [
        "# Import the Subtract layer from keras\n",
        "from keras.layers import Subtract\n",
        "\n",
        "# Create a subtract layer using the inputs from the previous exercise\n",
        "score_diff = Subtract()([team_1_strength, team_2_strength])"
      ],
      "execution_count": 0,
      "outputs": []
    },
    {
      "metadata": {
        "id": "pzjJ8RfGBkYK",
        "colab_type": "code",
        "colab": {}
      },
      "cell_type": "code",
      "source": [
        "\"\"\"\n",
        "Model using two inputs and one output\n",
        "Now that you have your two inputs (team id 1 and team id 2) and output (score difference), \n",
        "you can wrap them up in a model so you can use it later for fitting to data and evaluating on new data.\n",
        "\n",
        "\"\"\""
      ],
      "execution_count": 0,
      "outputs": []
    },
    {
      "metadata": {
        "id": "rmvPwL81-xpZ",
        "colab_type": "code",
        "colab": {}
      },
      "cell_type": "code",
      "source": [
        "# Imports\n",
        "from keras.layers import Subtract\n",
        "from keras.models import Model\n",
        "\n",
        "# Subtraction layer from previous exercise\n",
        "score_diff = Subtract()([team_1_strength, team_2_strength])\n",
        "\n",
        "# Create the model\n",
        "model = Model([team_in_1, team_in_2], score_diff)\n",
        "\n",
        "# Compile the model\n",
        "model.compile(optimizer='adam', loss='mean_absolute_error')"
      ],
      "execution_count": 0,
      "outputs": []
    },
    {
      "metadata": {
        "id": "W7F4R7s7BxI5",
        "colab_type": "code",
        "colab": {}
      },
      "cell_type": "code",
      "source": [
        "\"\"\"\n",
        "Now that you've defined a complete team strength model, you can fit it to the basketball data! \n",
        "Since your model has two inputs now, you need to pass the input data as a list.\n",
        "\"\"\""
      ],
      "execution_count": 0,
      "outputs": []
    },
    {
      "metadata": {
        "id": "_UG7RwoKCcDZ",
        "colab_type": "code",
        "outputId": "eb73e945-64ab-468a-eafc-16f3e6038c51",
        "colab": {
          "base_uri": "https://localhost:8080/",
          "height": 85
        }
      },
      "cell_type": "code",
      "source": [
        "# Get the team_1 column from the regular season data\n",
        "input_1 = games_season['team_1']\n",
        "\n",
        "# Get the team_2 column from the regular season data\n",
        "input_2 = games_season['team_2']\n",
        "\n",
        "# Fit the model to input 1 and 2, using score diff as a target\n",
        "model.fit([input_1, input_2],\n",
        "          games_season['score_diff'],\n",
        "          epochs=1,\n",
        "          batch_size=2048,\n",
        "          validation_split=0.10,\n",
        "          verbose=True)"
      ],
      "execution_count": 0,
      "outputs": [
        {
          "output_type": "stream",
          "text": [
            "Train on 280960 samples, validate on 31218 samples\n",
            "Epoch 1/1\n",
            "280960/280960 [==============================] - 1s 2us/step - loss: 12.1203 - val_loss: 11.8381\n"
          ],
          "name": "stdout"
        },
        {
          "output_type": "execute_result",
          "data": {
            "text/plain": [
              "<keras.callbacks.History at 0x7f19620ba940>"
            ]
          },
          "metadata": {
            "tags": []
          },
          "execution_count": 26
        }
      ]
    },
    {
      "metadata": {
        "id": "PmP48rW5CmTc",
        "colab_type": "code",
        "colab": {}
      },
      "cell_type": "code",
      "source": [
        "\"\"\"\n",
        "Now our model has learned a strength rating for every team.\n",
        "\"\"\""
      ],
      "execution_count": 0,
      "outputs": []
    },
    {
      "metadata": {
        "id": "PTRZ6VTJCsJw",
        "colab_type": "code",
        "colab": {}
      },
      "cell_type": "code",
      "source": [
        "\"\"\"\n",
        "\n",
        "The model you fit to the regular season data (model) in the previous exercise and the tournament dataset (games_tourney) are available in your workspace.\n",
        "\n",
        "In this exercise, you will evaluate the model on this new dataset. \n",
        "This evaluation will tell you how well you can predict the tournament games, \n",
        "based on a model trained with the regular season data. \n",
        "This is interesting because many teams play each other in the tournament that did not play in the regular season, \n",
        "so this is a very good check that your model is not overfitting.\n",
        "\n",
        "\"\"\""
      ],
      "execution_count": 0,
      "outputs": []
    },
    {
      "metadata": {
        "id": "irqe17f3C3f7",
        "colab_type": "code",
        "outputId": "3729b266-b1e4-4dc1-ef68-e99a1cd38b9f",
        "colab": {
          "base_uri": "https://localhost:8080/",
          "height": 51
        }
      },
      "cell_type": "code",
      "source": [
        "# Get team_1 from the tournament data\n",
        "input_1 = games_tourney['team_1']\n",
        "\n",
        "# Get team_2 from the tournament data\n",
        "input_2 = games_tourney['team_2']\n",
        "\n",
        "# Evaluate the model using these inputs\n",
        "model.evaluate([input_1, input_2], games_tourney['score_diff'])"
      ],
      "execution_count": 0,
      "outputs": [
        {
          "output_type": "stream",
          "text": [
            "4234/4234 [==============================] - 0s 42us/step\n"
          ],
          "name": "stdout"
        },
        {
          "output_type": "execute_result",
          "data": {
            "text/plain": [
              "11.681744142585506"
            ]
          },
          "metadata": {
            "tags": []
          },
          "execution_count": 27
        }
      ]
    },
    {
      "metadata": {
        "id": "NkSpL6nkC8Ot",
        "colab_type": "code",
        "colab": {}
      },
      "cell_type": "code",
      "source": [
        "\"\"\"\n",
        "\n",
        "Make an input layer for home vs. away\n",
        "Now you will make an improvement to the model you used in the previous chapter for regular season games. \n",
        "You know there is a well-documented home-team advantage in basketball, so you will add a new input to your model to capture this effect.\n",
        "\n",
        "This model will have three inputs: team_id_1, team_id_2, and home. The team IDs will be integers that you look up in your team \n",
        "strength model from the previous chapter, and home will be a binary variable, 1 if team_1 is playing at home, 0 if they are not.\n",
        "\"\"\""
      ],
      "execution_count": 0,
      "outputs": []
    },
    {
      "metadata": {
        "id": "Okard61aTrrM",
        "colab_type": "code",
        "colab": {}
      },
      "cell_type": "code",
      "source": [
        "from keras.layers import Concatenate\n",
        "\n",
        "# Create an Input for each team\n",
        "team_in_1 = Input(shape=(1,), name='Team-1-In')\n",
        "team_in_2 = Input(shape=(1,), name='Team-2-In')\n",
        "\n",
        "# Create an input for home vs away\n",
        "home_in = Input(shape=(1,), name='Home-In')\n",
        "\n",
        "# Lookup the team inputs in the team strength model\n",
        "team_1_strength = team_strength_model(team_in_1)\n",
        "team_2_strength = team_strength_model(team_in_2)\n",
        "\n",
        "# Combine the team strengths with the home input using a Concatenate layer, then add a Dense layer\n",
        "out = Concatenate()([team_1_strength, team_2_strength, home_in])\n",
        "out = Dense(1)(out)"
      ],
      "execution_count": 0,
      "outputs": []
    },
    {
      "metadata": {
        "id": "XoRevAIVVzZd",
        "colab_type": "code",
        "colab": {}
      },
      "cell_type": "code",
      "source": [
        "\"\"\"\n",
        "Now that you've input and output layers for the 3-input model, wrap them up in a Keras model class,\n",
        "and then compile the model, so you can fit it to data and use it to make predictions on new data.\n",
        "\n",
        "\"\"\""
      ],
      "execution_count": 0,
      "outputs": []
    },
    {
      "metadata": {
        "id": "dY-35-ycV6mc",
        "colab_type": "code",
        "colab": {}
      },
      "cell_type": "code",
      "source": [
        "# Make a Model\n",
        "model = Model([team_in_1, team_in_2, home_in], out)\n",
        "\n",
        "# Compile the model\n",
        "model.compile(optimizer='adam', loss='mean_absolute_error')"
      ],
      "execution_count": 0,
      "outputs": []
    },
    {
      "metadata": {
        "id": "t1UouH5kWD5p",
        "colab_type": "code",
        "colab": {}
      },
      "cell_type": "code",
      "source": [
        "\"\"\"\n",
        "Now that you've defined a new model, fit it to the regular season basketball data.\n",
        "\n",
        "Use the model you fit in the previous exercise (which was trained on the regular season data) \n",
        "and evaluate the model on data for tournament games (games_tourney)\n",
        "\n",
        "\"\"\""
      ],
      "execution_count": 0,
      "outputs": []
    },
    {
      "metadata": {
        "id": "QzFrI8afWLAv",
        "colab_type": "code",
        "colab": {
          "base_uri": "https://localhost:8080/",
          "height": 102
        },
        "outputId": "20f418c6-8597-4402-d539-41f8a59e78b8"
      },
      "cell_type": "code",
      "source": [
        "# Fit the model to the games_season dataset\n",
        "model.fit([games_season['team_1'], games_season['team_2'], games_season['home']],\n",
        "          games_season['score_diff'],\n",
        "          epochs=1,\n",
        "          verbose=True,\n",
        "          validation_split=.10,\n",
        "          batch_size=2048)\n",
        "\n",
        "# Evaluate the model on the games_tourney dataset\n",
        "model.evaluate([games_tourney['team_1'], games_tourney['team_2'], games_tourney['home']],\n",
        "               games_tourney['score_diff'])"
      ],
      "execution_count": 32,
      "outputs": [
        {
          "output_type": "stream",
          "text": [
            "Train on 280960 samples, validate on 31218 samples\n",
            "Epoch 1/1\n",
            "280960/280960 [==============================] - 1s 3us/step - loss: 12.2582 - val_loss: 11.6515\n",
            "4234/4234 [==============================] - 0s 44us/step\n"
          ],
          "name": "stdout"
        },
        {
          "output_type": "execute_result",
          "data": {
            "text/plain": [
              "11.684395866682353"
            ]
          },
          "metadata": {
            "tags": []
          },
          "execution_count": 32
        }
      ]
    },
    {
      "metadata": {
        "id": "R5cAlfT7WR_l",
        "colab_type": "code",
        "colab": {}
      },
      "cell_type": "code",
      "source": [
        "\"\"\"\n",
        "In this exercise, you will take a closer look at the summary of one of your 3-input models available in your workspace as model. \n",
        "Note how many layers the model has, how many parameters it has, and how many of those parameters are trainable/non-trainable.\n",
        "\"\"\""
      ],
      "execution_count": 0,
      "outputs": []
    },
    {
      "metadata": {
        "id": "mifUG-siXWUn",
        "colab_type": "code",
        "colab": {
          "base_uri": "https://localhost:8080/",
          "height": 391
        },
        "outputId": "917253f3-532b-4dd9-d9ba-73088aa8a023"
      },
      "cell_type": "code",
      "source": [
        "model.summary()"
      ],
      "execution_count": 33,
      "outputs": [
        {
          "output_type": "stream",
          "text": [
            "__________________________________________________________________________________________________\n",
            "Layer (type)                    Output Shape         Param #     Connected to                     \n",
            "==================================================================================================\n",
            "Team-1-In (InputLayer)          (None, 1)            0                                            \n",
            "__________________________________________________________________________________________________\n",
            "Team-2-In (InputLayer)          (None, 1)            0                                            \n",
            "__________________________________________________________________________________________________\n",
            "Team-Strength-Model (Model)     (None, 1)            10888       Team-1-In[0][0]                  \n",
            "                                                                 Team-2-In[0][0]                  \n",
            "__________________________________________________________________________________________________\n",
            "Home-In (InputLayer)            (None, 1)            0                                            \n",
            "__________________________________________________________________________________________________\n",
            "concatenate_1 (Concatenate)     (None, 3)            0           Team-Strength-Model[7][0]        \n",
            "                                                                 Team-Strength-Model[8][0]        \n",
            "                                                                 Home-In[0][0]                    \n",
            "__________________________________________________________________________________________________\n",
            "dense_6 (Dense)                 (None, 1)            4           concatenate_1[0][0]              \n",
            "==================================================================================================\n",
            "Total params: 10,892\n",
            "Trainable params: 10,892\n",
            "Non-trainable params: 0\n",
            "__________________________________________________________________________________________________\n"
          ],
          "name": "stdout"
        }
      ]
    },
    {
      "metadata": {
        "id": "ROZS8U2fX21k",
        "colab_type": "code",
        "colab": {
          "base_uri": "https://localhost:8080/",
          "height": 334
        },
        "outputId": "4199112f-3387-424e-8dc8-728bdd13af09"
      },
      "cell_type": "code",
      "source": [
        "# Imports\n",
        "import matplotlib.pyplot as plt\n",
        "from keras.utils import plot_model\n",
        "\n",
        "# Plot the model\n",
        "plot_model(model, to_file='model2.png')\n",
        "\n",
        "# Display the image\n",
        "data = plt.imread('model2.png')\n",
        "plt.imshow(data)\n",
        "plt.show()"
      ],
      "execution_count": 34,
      "outputs": [
        {
          "output_type": "display_data",
          "data": {
            "image/png": "[encoded data removed]",
            "text/plain": [
              "<matplotlib.figure.Figure at 0x7f1958e40b00>"
            ]
          },
          "metadata": {
            "tags": []
          }
        }
      ]
    },
    {
      "metadata": {
        "id": "PN28NIIeX-lN",
        "colab_type": "code",
        "colab": {}
      },
      "cell_type": "code",
      "source": [
        "\"\"\"\n",
        "take the regular season model from the previous lesson, and predict on the tournament data. \n",
        "Add this prediction to the tournament data as a new column.\n",
        "\"\"\""
      ],
      "execution_count": 0,
      "outputs": []
    },
    {
      "metadata": {
        "id": "Arc-W-YoZbda",
        "colab_type": "code",
        "colab": {}
      },
      "cell_type": "code",
      "source": [
        "# Predict\n",
        "games_tourney['pred'] = model.predict([games_tourney['team_1'], \n",
        "                                             games_tourney['team_2'], \n",
        "                                             games_tourney['home']])"
      ],
      "execution_count": 0,
      "outputs": []
    },
    {
      "metadata": {
        "id": "_3AMqwYYZgqr",
        "colab_type": "code",
        "colab": {}
      },
      "cell_type": "code",
      "source": [
        "\"\"\"\n",
        "In this exercise, you will look at a different way to create models with multiple inputs. \n",
        "This method only works for purely numeric data, but its a much simpler approach to making multi-variate neural networks.\n",
        "\n",
        "Now you have three numeric columns in the tournament dataset: 'seed_diff', 'home', and 'pred'. \n",
        "In this exercise, you will create a neural network that uses a single input layer to process all three of these numeric inputs.\n",
        "\n",
        "This model should have a single output to predict the tournament game score difference.\n",
        "\"\"\""
      ],
      "execution_count": 0,
      "outputs": []
    },
    {
      "metadata": {
        "id": "0n0xu4vzZ0g7",
        "colab_type": "code",
        "colab": {}
      },
      "cell_type": "code",
      "source": [
        "# Create an input layer with 3 columns\n",
        "input_tensor = Input((3,))\n",
        "\n",
        "# Pass it to a Dense layer with 1 unit\n",
        "output_tensor = Dense(1)(input_tensor)\n",
        "\n",
        "# Create a model\n",
        "model = Model(input_tensor, output_tensor)\n",
        "\n",
        "# Compile the model\n",
        "model.compile(optimizer='adam', loss='mean_absolute_error')"
      ],
      "execution_count": 0,
      "outputs": []
    },
    {
      "metadata": {
        "id": "NRVZ4r__Z7Fu",
        "colab_type": "code",
        "colab": {}
      },
      "cell_type": "code",
      "source": [
        "# Fit the model\n",
        "model.fit(games_tourney_train[['home', 'seed_diff', 'pred']],\n",
        "          games_tourney_train['score_diff'],\n",
        "          epochs=1,\n",
        "          verbose=True)"
      ],
      "execution_count": 0,
      "outputs": []
    },
    {
      "metadata": {
        "id": "BRVj_kJSaGON",
        "colab_type": "code",
        "colab": {}
      },
      "cell_type": "code",
      "source": [
        "# Evaluate the model on the games_tourney_test dataset\n",
        "model.evaluate(games_tourney_test[['home', 'seed_diff', 'prediction']], \n",
        "               games_tourney_test['score_diff'])"
      ],
      "execution_count": 0,
      "outputs": []
    },
    {
      "metadata": {
        "id": "gjMkhLX4aLlR",
        "colab_type": "code",
        "colab": {}
      },
      "cell_type": "code",
      "source": [
        "\"\"\"\n",
        "Simple two-output model\n",
        "In this exercise, you will use the tournament data to build one model that makes two predictions: \n",
        "the scores of both teams in a given game. Your inputs will be the seed difference of the two teams, \n",
        "as well as the predicted score difference from the model you built.\n",
        "\n",
        "The output from your model will be the predicted score for team 1 as well as team 2. \n",
        "This is called \"multiple target regression\": one model making more than one prediction\n",
        "\n",
        "\"\"\""
      ],
      "execution_count": 0,
      "outputs": []
    },
    {
      "metadata": {
        "id": "WZGYVzR4qq1S",
        "colab_type": "code",
        "colab": {}
      },
      "cell_type": "code",
      "source": [
        "# Define the input\n",
        "input_tensor = Input(shape=(2,))\n",
        "\n",
        "# Define the output\n",
        "output_tensor = Dense(2)(input_tensor)\n",
        "\n",
        "# Create a model\n",
        "model = Model(input_tensor, output_tensor)\n",
        "\n",
        "# Compile the model\n",
        "model.compile(loss='mean_absolute_error', optimizer='adam')"
      ],
      "execution_count": 0,
      "outputs": []
    },
    {
      "metadata": {
        "id": "d6gA7_BJq1qG",
        "colab_type": "code",
        "colab": {}
      },
      "cell_type": "code",
      "source": [
        "\"\"\"\n",
        "Now that you've defined your 2-output model, fit it to the tournament data. \n",
        "I've split the data into games_tourney_train and games_tourney_test, so use the training set to fit for now.\n",
        "\n",
        "This model will use the pre-tournament seeds, as well as your pre-tournament predictions from the regular season model you built previously\n",
        "\"\"\""
      ],
      "execution_count": 0,
      "outputs": []
    },
    {
      "metadata": {
        "id": "AbSwWCE1q-UL",
        "colab_type": "code",
        "colab": {}
      },
      "cell_type": "code",
      "source": [
        "model.fit(games_tourney_train[['seed_diff', 'pred']],\n",
        "  \t\t  games_tourney_train[['score_1', 'score_2']],\n",
        "  \t\t  verbose=True,\n",
        "          epochs=100,\n",
        "  \t\t  batch_size=16384)"
      ],
      "execution_count": 0,
      "outputs": []
    },
    {
      "metadata": {
        "id": "yJLV_cj3rDuM",
        "colab_type": "code",
        "colab": {}
      },
      "cell_type": "code",
      "source": [
        "\"\"\"\n",
        "Now that you've fit your model, let's take a look at it. You can use the .get_weights() method to inspect your model's weights.\n",
        "\n",
        "The input layer will have 4 weights: 2 for each input times 2 for each output.\n",
        "\n",
        "The output layer will have 2 weights, one for each output.\n",
        "\n",
        "\"\"\""
      ],
      "execution_count": 0,
      "outputs": []
    },
    {
      "metadata": {
        "id": "fGPyaGYwrKa4",
        "colab_type": "code",
        "colab": {
          "base_uri": "https://localhost:8080/",
          "height": 51
        },
        "outputId": "1447d353-3f1c-474c-ae14-e649e92631d8"
      },
      "cell_type": "code",
      "source": [
        "# Print the model's weights\n",
        "print(model.get_weights())\n",
        "\n",
        "# Print the column means of the training data\n",
        "#print(games_tourney_train.mean())"
      ],
      "execution_count": 38,
      "outputs": [
        {
          "output_type": "stream",
          "text": [
            "[array([[0.12850654, 1.174138  ],\n",
            "       [0.98777187, 0.3873558 ]], dtype=float32), array([0., 0.], dtype=float32)]\n"
          ],
          "name": "stdout"
        }
      ]
    },
    {
      "metadata": {
        "id": "tUslgl0ariaf",
        "colab_type": "code",
        "colab": {}
      },
      "cell_type": "code",
      "source": [
        "model.evaluate(games_tourney_test[['seed_diff', 'pred']],\n",
        "               games_tourney_test[['score_1', 'score_2']])"
      ],
      "execution_count": 0,
      "outputs": []
    },
    {
      "metadata": {
        "id": "e5lfznOArnyP",
        "colab_type": "code",
        "colab": {}
      },
      "cell_type": "code",
      "source": [
        "\"\"\"\n",
        "\n",
        "Classification and regression in one model: This kind of model is only possible with a neural network.\n",
        "Now you will create a different kind of 2-output model. This time, you will predict the score difference, \n",
        "instead of both team's scores and then you will predict the probability that team 1 won the game. \n",
        "This is a pretty cool model: it is going to do both classification and regression!\n",
        "\n",
        "In this model, turn off the bias, or intercept for each layer. \n",
        "Your inputs (seed difference and predicted score difference) have a mean of very close to zero, and \n",
        "your outputs both have means that are close to zero, so your model shouldn't need the bias term to fit the data well.\n",
        "\n",
        "\"\"\""
      ],
      "execution_count": 0,
      "outputs": []
    },
    {
      "metadata": {
        "id": "alEq6Qegs6Pu",
        "colab_type": "code",
        "colab": {}
      },
      "cell_type": "code",
      "source": [
        "# Create an input layer with 2 columns\n",
        "input_tensor = Input(shape=(2,))\n",
        "\n",
        "# Create the first output\n",
        "output_tensor_1 = Dense(1, activation='linear', use_bias=False)(input_tensor)\n",
        "\n",
        "# Create the second output (use the first output as input here)\n",
        "output_tensor_2 = Dense(1, activation='sigmoid', use_bias=False)(output_tensor_1)\n",
        "\n",
        "# Create a model with 2 outputs\n",
        "model = Model(input_tensor, [output_tensor_1, output_tensor_2])"
      ],
      "execution_count": 0,
      "outputs": []
    },
    {
      "metadata": {
        "id": "48MXQVy8tBnx",
        "colab_type": "code",
        "colab": {}
      },
      "cell_type": "code",
      "source": [
        "\"\"\"\n",
        "Now that you have a model with 2 outputs, compile it with 2 loss functions: mean absolute error (MAE) for 'score_diff' \n",
        "and binary cross-entropy (also known as logloss) for 'won'. \n",
        "Then fit the model with 'seed_diff' and 'pred' as inputs. For outputs, predict 'score_diff' and 'won'.\n",
        "\n",
        "This model can use the scores of the games to make sure that close games (small score diff) have lower win probabilities than blowouts (large score diff).\n",
        "\n",
        "The regression problem is easier than the classification problem because MAE punishes the model less for a loss due to random chance. \n",
        "For example, if score_diff is -1 and won is 0, that means team_1 had some bad luck and lost by a single free throw. \n",
        "The data for the easy problem helps the model find a solution to the hard problem.\n",
        "\"\"\""
      ],
      "execution_count": 0,
      "outputs": []
    },
    {
      "metadata": {
        "id": "QE_MCMMJtSfz",
        "colab_type": "code",
        "colab": {
          "base_uri": "https://localhost:8080/",
          "height": 231
        },
        "outputId": "da76e72a-98f7-4169-a3b1-06e7f584e14b"
      },
      "cell_type": "code",
      "source": [
        "# Import the Adam optimizer\n",
        "from keras.optimizers import Adam\n",
        "\n",
        "# Compile the model with 2 losses and the Adam optimzer with a higher learning rate\n",
        "model.compile(loss=['mean_absolute_error', 'binary_crossentropy'], optimizer=Adam(.01))\n",
        "\n",
        "# Fit the model to the tournament training data, with 2 inputs and 2 outputs\n",
        "model.fit(games_tourney_train[['seed_diff', 'pred']],\n",
        "          [games_tourney_train[['score_diff']], games_tourney_train[['won']]],\n",
        "          epochs=10,\n",
        "          verbose=True,\n",
        "          batch_size=16384)"
      ],
      "execution_count": 40,
      "outputs": [
        {
          "output_type": "error",
          "ename": "NameError",
          "evalue": "ignored",
          "traceback": [
            "\u001b[0;31m---------------------------------------------------------------------------\u001b[0m",
            "\u001b[0;31mNameError\u001b[0m                                 Traceback (most recent call last)",
            "\u001b[0;32m<ipython-input-40-71adbf633928>\u001b[0m in \u001b[0;36m<module>\u001b[0;34m()\u001b[0m\n\u001b[1;32m      5\u001b[0m \u001b[0;34m\u001b[0m\u001b[0m\n\u001b[1;32m      6\u001b[0m \u001b[0;31m# Fit the model to the tournament training data, with 2 inputs and 2 outputs\u001b[0m\u001b[0;34m\u001b[0m\u001b[0;34m\u001b[0m\u001b[0;34m\u001b[0m\u001b[0m\n\u001b[0;32m----> 7\u001b[0;31m model.fit(games_tourney_train[['seed_diff', 'pred']],\n\u001b[0m\u001b[1;32m      8\u001b[0m           \u001b[0;34m[\u001b[0m\u001b[0mgames_tourney_train\u001b[0m\u001b[0;34m[\u001b[0m\u001b[0;34m[\u001b[0m\u001b[0;34m'score_diff'\u001b[0m\u001b[0;34m]\u001b[0m\u001b[0;34m]\u001b[0m\u001b[0;34m,\u001b[0m \u001b[0mgames_tourney_train\u001b[0m\u001b[0;34m[\u001b[0m\u001b[0;34m[\u001b[0m\u001b[0;34m'won'\u001b[0m\u001b[0;34m]\u001b[0m\u001b[0;34m]\u001b[0m\u001b[0;34m]\u001b[0m\u001b[0;34m,\u001b[0m\u001b[0;34m\u001b[0m\u001b[0;34m\u001b[0m\u001b[0m\n\u001b[1;32m      9\u001b[0m           \u001b[0mepochs\u001b[0m\u001b[0;34m=\u001b[0m\u001b[0;36m10\u001b[0m\u001b[0;34m,\u001b[0m\u001b[0;34m\u001b[0m\u001b[0;34m\u001b[0m\u001b[0m\n",
            "\u001b[0;31mNameError\u001b[0m: name 'games_tourney_train' is not defined"
          ]
        }
      ]
    },
    {
      "metadata": {
        "id": "p0pVC8fvtZLY",
        "colab_type": "code",
        "colab": {}
      },
      "cell_type": "code",
      "source": [
        "\"\"\"\n",
        "Now you should take a look at the weights for this model. In particular, note the last weight of the model. \n",
        "This weight converts the predicted score difference to a predicted win probability. \n",
        "If you multiply the predicted score difference by the last weight of the model and then apply the sigmoid function, you get the win probability of the game.\n",
        "\"\"\""
      ],
      "execution_count": 0,
      "outputs": []
    },
    {
      "metadata": {
        "id": "a8R_b1W1tiFs",
        "colab_type": "code",
        "colab": {
          "base_uri": "https://localhost:8080/",
          "height": 51
        },
        "outputId": "5a1d17cc-b854-4084-ffbc-6f7bac06c8fc"
      },
      "cell_type": "code",
      "source": [
        "# Import the sigmoid function from scipy\n",
        "from scipy.special import expit as sigmoid\n",
        "\n",
        "# Weight from the model\n",
        "weight = 0.14\n",
        "\n",
        "# Print the approximate win probability of a predicted close game\n",
        "print(sigmoid(1 * weight))\n",
        "\n",
        "# Print the approximate win probability of a predicted blowout game\n",
        "print(sigmoid(10 * weight))"
      ],
      "execution_count": 41,
      "outputs": [
        {
          "output_type": "stream",
          "text": [
            "0.5349429451582145\n",
            "0.8021838885585818\n"
          ],
          "name": "stdout"
        }
      ]
    },
    {
      "metadata": {
        "id": "-5WrGD3huNpa",
        "colab_type": "code",
        "colab": {}
      },
      "cell_type": "code",
      "source": [
        "\"\"\"\n",
        "So sigmoid(1 * 0.14) is 0.53, which represents a pretty close game and sigmoid(10 * 0.14) is 0.80, which represents a pretty likely win. \n",
        "In other words, if the model predicts a win of 1 point, it is less sure of the win than if it predicts 10 points. Who says neural networks are black boxes?\n",
        "\"\"\""
      ],
      "execution_count": 0,
      "outputs": []
    },
    {
      "metadata": {
        "id": "uhNr5DQduW3V",
        "colab_type": "code",
        "colab": {}
      },
      "cell_type": "code",
      "source": [
        "\"\"\"\n",
        "Now that you've fit your model and inspected its weights to make sure they make sense, \n",
        "evaluate your model on the tournament test set to see how well it does on new data.\n",
        "\n",
        "Note that in this case, Keras will return 3 numbers: the first number will be the sum of both the loss functions, \n",
        "and then the next 2 numbers will be the loss functions you used when defining the model.\n",
        "\"\"\""
      ],
      "execution_count": 0,
      "outputs": []
    },
    {
      "metadata": {
        "id": "zXO1wFoZugax",
        "colab_type": "code",
        "colab": {}
      },
      "cell_type": "code",
      "source": [
        "# Evaluate the model on new data\n",
        "model.evaluate(games_tourney_test[['seed_diff', 'pred']],\n",
        "               [games_tourney_test[['score_diff']], games_tourney_test[['won']]])"
      ],
      "execution_count": 0,
      "outputs": []
    },
    {
      "metadata": {
        "id": "GYc-XC5Tujh7",
        "colab_type": "code",
        "colab": {}
      },
      "cell_type": "code",
      "source": [
        ""
      ],
      "execution_count": 0,
      "outputs": []
    }
  ]
}